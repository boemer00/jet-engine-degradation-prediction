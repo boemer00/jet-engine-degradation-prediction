{
 "cells": [
  {
   "cell_type": "code",
   "execution_count": 1,
   "id": "1de959ef-6ee7-4a0c-a9fb-c3498d5944f8",
   "metadata": {},
   "outputs": [],
   "source": [
    "import pandas as pd\n",
    "import numpy as np\n",
    "import seaborn as sns\n",
    "import matplotlib.pyplot as plt\n",
    "import warnings\n",
    "import os"
   ]
  },
  {
   "cell_type": "code",
   "execution_count": 2,
   "id": "215151bc-ef31-4fdd-aea9-ee0985878547",
   "metadata": {},
   "outputs": [],
   "source": [
    "os.chdir('/Users/renatoboemer/code/lewagon/jet-engine/raw_data/Cmaps')"
   ]
  },
  {
   "cell_type": "code",
   "execution_count": 3,
   "id": "86af3752-d90a-4b61-927e-4665bd0b05b6",
   "metadata": {},
   "outputs": [],
   "source": [
    "index_names = [\"Engine\", \"Cycle\"]\n",
    "setting_names = [\"Setting 1\", \"Setting 2\", \"Setting 3\"]\n",
    "sensor_names = [\"(Fan Inlet Temperature) (◦R)\",\n",
    "               \"(LPC Outlet Temperature) (◦R)\",\n",
    "               \"(HPC Outlet Temperature) (◦R)\",\n",
    "               \"(LPT Outlet Temperature) (◦R)\",\n",
    "               \"(Fan Inlet Pressure) (psia)\",\n",
    "               \"(Bypass-Duct Pressure) (psia)\",\n",
    "               \"(HPC Outlet Pressure) (psia)\",\n",
    "               \"(Physical Fan Speed) (rpm)\",\n",
    "               \"(Physical Core Speed) (rpm)\",\n",
    "               \"(Engine Pressure Ratio(P50/P2)\",\n",
    "               \"(HPC Outlet Static Pressure) (psia)\",\n",
    "               \"(Ratio of Fuel Flow to Ps30) (pps/psia)\",\n",
    "               \"(Corrected Fan Speed) (rpm)\",\n",
    "               \"(Corrected Core Speed) (rpm)\",\n",
    "               \"(Bypass Ratio) \",\n",
    "               \"(Burner Fuel-Air Ratio)\",\n",
    "               \"(Bleed Enthalpy)\",\n",
    "               \"(Required Fan Speed)\",\n",
    "               \"(Required Fan Conversion Speed)\",\n",
    "               \"(High-Pressure Turbines Cool Air Flow)\",\n",
    "               \"(Low-Pressure Turbines Cool Air Flow)\",\n",
    "               \"Sensor 26\",\n",
    "               \"Sensor 27\"]\n",
    "\n",
    "col_names = index_names + setting_names + sensor_names"
   ]
  },
  {
   "cell_type": "code",
   "execution_count": 4,
   "id": "d119b1ae-ec97-4d9a-b28e-287fef2de00e",
   "metadata": {},
   "outputs": [],
   "source": [
    "df_train = pd.read_csv('/Users/renatoboemer/code/lewagon/jet-engine/raw_data/Cmaps/train_FD001.txt', sep='\\s+', header=None, names=col_names)\n",
    "df_test = pd.read_csv('/Users/renatoboemer/code/lewagon/jet-engine/raw_data/Cmaps/test_FD001.txt', sep='\\s+', header=None, names=col_names)\n",
    "df_test_RUL = pd.read_csv('/Users/renatoboemer/code/lewagon/jet-engine/raw_data/Cmaps/RUL_FD001.txt', sep='\\s+', header=None, names=['RUL'])"
   ]
  },
  {
   "cell_type": "code",
   "execution_count": 15,
   "id": "03f61c9c-856a-4ddf-a57c-5ac727151d7a",
   "metadata": {},
   "outputs": [],
   "source": [
    "def drop_test(df):\n",
    "    col_names = [\"Sensor 26\", \"Sensor 27\"]\n",
    "    cols_to_drop = [col for col in col_names if df[col].isna().sum() == df.shape[0]]\n",
    "    return df.drop(columns=cols_to_drop)\n"
   ]
  }
 ],
 "metadata": {
  "kernelspec": {
   "display_name": "Python 3 (ipykernel)",
   "language": "python",
   "name": "python3"
  },
  "language_info": {
   "codemirror_mode": {
    "name": "ipython",
    "version": 3
   },
   "file_extension": ".py",
   "mimetype": "text/x-python",
   "name": "python",
   "nbconvert_exporter": "python",
   "pygments_lexer": "ipython3",
   "version": "3.10.6"
  }
 },
 "nbformat": 4,
 "nbformat_minor": 5
}
